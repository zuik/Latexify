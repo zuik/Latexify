{
 "cells": [
  {
   "cell_type": "code",
   "execution_count": 1,
   "metadata": {},
   "outputs": [],
   "source": [
    "from IPython.display import Latex"
   ]
  },
  {
   "cell_type": "code",
   "execution_count": 2,
   "metadata": {},
   "outputs": [],
   "source": [
    "import ast"
   ]
  },
  {
   "cell_type": "code",
   "execution_count": 3,
   "metadata": {},
   "outputs": [],
   "source": [
    "import showast"
   ]
  },
  {
   "cell_type": "markdown",
   "metadata": {},
   "source": [
    "### Goal\n",
    "\n",
    "In this project, we will try to build a transpiler from Python syntax into Latex. This would support converting simple expression such as (`x**2 + 1` -> $x^2 +1$). The expression would be valid Python expression. We would parse the the Python expression into an AST. From this AST, we would convert the operator from the Python version into Latex (such as `**` -> ^). Then we would also display the Latex expression in Jupyter for demonstration purposes. \n",
    "\n",
    "This notebook needs to be run on **Python 3.6** minimum due to the use of f-strings.\n",
    "\n",
    "Some examples:\n"
   ]
  },
  {
   "cell_type": "markdown",
   "metadata": {},
   "source": [
    "| `python` | $\\LaTeX$ |\n",
    "|:--------:|:-------:|\n",
    "| `x**2` | $x^2$ |\n",
    "| `x**2 + x - 1` | $x^2 + x - 1$ |\n",
    "| `3*x + x - 1` | $3 \\cdot x + x -1$ |\n",
    "| `1/x` | $\\frac{1}{x}$|\n",
    "| `x**2 / (x**2 + x - 1)` | $\\frac{x^2}{x^2 + x - 1}$|\n",
    "|`x == 1` | $x = 1$|\n",
    "| ` x< 1` | $x < 1$|\n",
    "|`sum(x)`|$\\sum { x } $|\n",
    "|`sum(3*x)`|$\\sum { 3 \\cdot x}  $|\n"
   ]
  },
  {
   "cell_type": "markdown",
   "metadata": {},
   "source": [
    "# Code"
   ]
  },
  {
   "cell_type": "code",
   "execution_count": 4,
   "metadata": {},
   "outputs": [],
   "source": [
    "# operator = Add | Sub | Mult | Div | Mod | Pow \n",
    "# cmpop = Eq | NotEq | Lt | LtE | Gt | GtE | Is | IsNot | In | NotIn\n",
    "# expr = BinOp(expr left, operator op, expr right)\n",
    "#          | Compare(expr left, cmpop* ops, expr* comparators)\n",
    "#          | Num(object n) -- a number as a PyObject.\n",
    "#          | Name(identifier id, expr_context ctx)\n",
    "#         | Call(expr func, expr* args, keyword* keywords)\n"
   ]
  },
  {
   "cell_type": "markdown",
   "metadata": {},
   "source": [
    "#### BNF"
   ]
  },
  {
   "cell_type": "markdown",
   "metadata": {},
   "source": [
    "$$\n",
    "\\begin{eqnarray*}\n",
    "\\textit{CompareOperator} & ::= &  \\texttt{==} \\\\ \n",
    "& | & \\texttt{!=} \\\\ \n",
    "& | & \\texttt{<} \\\\  \n",
    "& | & \\texttt{<=} \\\\ \n",
    "& | & \\texttt{>} \\\\  \n",
    "& | & \\texttt{>=} \\\\\n",
    "\\textit{BinaryOperator} & ::= & \\texttt{+}  \\\\\n",
    "& | & \\texttt{-}  \\\\\n",
    "& | & \\texttt{*}  \\\\\n",
    "& | & \\texttt{/}  \\\\\n",
    "& | & \\texttt{**}  \\\\\n",
    "\\textit{Expression} & ::= & < \\textit{Expression} > < \\textit{BinaryOperator}> < \\textit{Expression} > \\\\\n",
    "& | & < \\textit{Expression} > <\\textit{CompareOperator}> <\\textit{Expression}> \\\\\n",
    "& | & < \\textit{Number} > \\\\\n",
    "& | & < \\textit{Name} > \\\\\n",
    "& | & < Call > \n",
    "\\textit{Number} & ::= & \\texttt{int}\\\\\n",
    "& | & \\texttt{float}\\\\\n",
    "\\textit{Name} & ::= & \\texttt{str}\\\\\n",
    "\\textit{Call} & ::= & < \\textit{FuncName} > \\texttt{(} < \\textit{Expression} > \\texttt{)} \\\\ \n",
    "\\textit{FuncName} & ::= & \\texttt{sum} \\\\\n",
    "\\end{eqnarray*}\n",
    "$$"
   ]
  },
  {
   "cell_type": "code",
   "execution_count": 5,
   "metadata": {},
   "outputs": [],
   "source": [
    "OP_MAP = {\n",
    "    ast.Add : \"+\",\n",
    "    ast.Sub: \"-\",\n",
    "    ast.Mult: \"\\\\cdot\", # This is due to preference\n",
    "    ast.Pow : \"^\",\n",
    "    ast.Div: None, # Special case implemented below\n",
    "    ast.Eq: \"=\",\n",
    "    ast.NotEq: \"\\\\neq\",\n",
    "    ast.Lt: \"<\",\n",
    "    ast.Gt: \">\",\n",
    "    ast.LtE: \"\\\\leq\" ,\n",
    "    ast.GtE: \"\\\\geq\",\n",
    "\n",
    "}"
   ]
  },
  {
   "cell_type": "markdown",
   "metadata": {},
   "source": [
    "#### Syntax check"
   ]
  },
  {
   "cell_type": "code",
   "execution_count": 6,
   "metadata": {},
   "outputs": [],
   "source": [
    "class Latexifiable(ast.NodeVisitor):\n",
    "    OP_MAP = OP_MAP\n",
    "    \n",
    "    def visit_Module(self, node):\n",
    "        return all(map(self.visit, node.body))\n",
    "    \n",
    "    def visit_Expr(self, node):\n",
    "        return self.visit(node.value)  \n",
    "    \n",
    "    def visit_Name(self, node):\n",
    "\n",
    "        return True\n",
    "    \n",
    "    def visit_Num(self, node):\n",
    "        return True\n",
    "    \n",
    "    def visit_BinOp(self, node):\n",
    "        l = self.visit(node.left)\n",
    "        r = self.visit(node.right)\n",
    "        op = type(node.op)\n",
    "        return all(\n",
    "            [op in set(self.OP_MAP.keys()),\n",
    "            l,r]\n",
    "        )\n",
    "        \n",
    "    def visit_Compare(self, node):\n",
    "        l = self.visit(node.left)\n",
    "        r = self.visit(node.comparators[0])\n",
    "        op = type(node.ops[0])\n",
    "        return all(\n",
    "            [op in set(self.OP_MAP.keys()),\n",
    "            l,r]\n",
    "        )\n",
    "    def visit_Call(self, node):\n",
    "        args = self.visit(node.args[0])\n",
    "        func = self.visit(node.func)\n",
    "        if func == \"sum\":\n",
    "            return True\n",
    "        return False"
   ]
  },
  {
   "cell_type": "markdown",
   "metadata": {},
   "source": [
    "#### Transpiler"
   ]
  },
  {
   "cell_type": "code",
   "execution_count": 7,
   "metadata": {},
   "outputs": [],
   "source": [
    "class Latexify(ast.NodeVisitor):\n",
    "    OP_MAP = OP_MAP\n",
    "    \n",
    "    def visit_Module(self, node):\n",
    "        return list(map(self.visit, node.body))\n",
    "    \n",
    "    def visit_Expr(self, node):\n",
    "        return self.visit(node.value)  \n",
    "    \n",
    "    def visit_Name(self, node):\n",
    "\n",
    "        return str(node.id)\n",
    "    \n",
    "    def visit_Num(self, node):\n",
    "        return node.n\n",
    "    \n",
    "    def visit_BinOp(self, node):\n",
    "        l = self.visit(node.left)\n",
    "        r = self.visit(node.right)\n",
    "        op = self.OP_MAP.get(type(node.op))\n",
    "        \n",
    "        if type(node.op) is ast.Div:\n",
    "            return f\"\\\\frac{{{l}}}{{{r}}}\"\n",
    "                \n",
    "        if not op:\n",
    "            raise ValueError(\"Can't find supported operator\")\n",
    "\n",
    "        return f\"{{ {l} }} {op} {{ {r} }}\" # Who knows that escaping braces in Python f-string is more braces\n",
    "    \n",
    "    def visit_Compare(self, node):\n",
    "        l = self.visit(node.left)\n",
    "        r = self.visit(node.comparators[0])\n",
    "        op = self.OP_MAP.get(type(node.ops[0]))\n",
    "\n",
    "        if not op:\n",
    "            raise ValueError(\"Can't find supported operator\")\n",
    "            \n",
    "        return f\"{{ {l} }} {op} {{ {r} }}\"\n",
    "\n",
    "    def visit_Call(self, node):\n",
    "        args = self.visit(node.args[0])\n",
    "        func = self.visit(node.func)\n",
    "        if func == \"sum\":\n",
    "            # Make the sum sign\n",
    "            return f\" \\sum {{ {args} }} \""
   ]
  },
  {
   "cell_type": "code",
   "execution_count": 8,
   "metadata": {},
   "outputs": [],
   "source": [
    "def show_parsed(v):\n",
    "    \"\"\"\n",
    "    Display the converted LaTeX formula in Jupyter\n",
    "    \n",
    "    :param v: The Python expression to convert into Latex\n",
    "    \"\"\"\n",
    "    p = ast.parse(v)\n",
    "    r = Latexify().visit(p)\n",
    "    lfb = Latexifiable().visit(p)\n",
    "    print(f\"Is Latexifiable?: {lfb}\")\n",
    "    print(f\"Latex: {r[0]}\")\n",
    "    if len(r) > 0:\n",
    "        return Latex(f\"${r[0]}$\")"
   ]
  },
  {
   "cell_type": "markdown",
   "metadata": {},
   "source": [
    "#### Tests"
   ]
  },
  {
   "cell_type": "code",
   "execution_count": 9,
   "metadata": {},
   "outputs": [
    {
     "name": "stdout",
     "output_type": "stream",
     "text": [
      "Is Latexifiable?: True\n",
      "Latex: x\n"
     ]
    },
    {
     "data": {
      "text/latex": [
       "$x$"
      ],
      "text/plain": [
       "<IPython.core.display.Latex object>"
      ]
     },
     "execution_count": 9,
     "metadata": {},
     "output_type": "execute_result"
    }
   ],
   "source": [
    "show_parsed(\"x\")"
   ]
  },
  {
   "cell_type": "code",
   "execution_count": 10,
   "metadata": {},
   "outputs": [
    {
     "name": "stdout",
     "output_type": "stream",
     "text": [
      "Is Latexifiable?: True\n",
      "Latex: { x } + { 1 }\n"
     ]
    },
    {
     "data": {
      "text/latex": [
       "${ x } + { 1 }$"
      ],
      "text/plain": [
       "<IPython.core.display.Latex object>"
      ]
     },
     "execution_count": 10,
     "metadata": {},
     "output_type": "execute_result"
    }
   ],
   "source": [
    "show_parsed(\"x+1\")"
   ]
  },
  {
   "cell_type": "code",
   "execution_count": 11,
   "metadata": {},
   "outputs": [
    {
     "name": "stdout",
     "output_type": "stream",
     "text": [
      "Is Latexifiable?: True\n",
      "Latex: { x } ^ { 2 }\n"
     ]
    },
    {
     "data": {
      "text/latex": [
       "${ x } ^ { 2 }$"
      ],
      "text/plain": [
       "<IPython.core.display.Latex object>"
      ]
     },
     "execution_count": 11,
     "metadata": {},
     "output_type": "execute_result"
    }
   ],
   "source": [
    "show_parsed(\"x**2\")"
   ]
  },
  {
   "cell_type": "code",
   "execution_count": 12,
   "metadata": {},
   "outputs": [
    {
     "name": "stdout",
     "output_type": "stream",
     "text": [
      "Is Latexifiable?: True\n",
      "Latex: { { { x } ^ { 2 } } + { x } } + { 1 }\n"
     ]
    },
    {
     "data": {
      "text/latex": [
       "${ { { x } ^ { 2 } } + { x } } + { 1 }$"
      ],
      "text/plain": [
       "<IPython.core.display.Latex object>"
      ]
     },
     "execution_count": 12,
     "metadata": {},
     "output_type": "execute_result"
    }
   ],
   "source": [
    "show_parsed(\"x**2 + x +1\")"
   ]
  },
  {
   "cell_type": "code",
   "execution_count": 13,
   "metadata": {},
   "outputs": [
    {
     "name": "stdout",
     "output_type": "stream",
     "text": [
      "Is Latexifiable?: True\n",
      "Latex: { { { 3 } \\cdot { x } } + { x } } - { 1 }\n"
     ]
    },
    {
     "data": {
      "text/latex": [
       "${ { { 3 } \\cdot { x } } + { x } } - { 1 }$"
      ],
      "text/plain": [
       "<IPython.core.display.Latex object>"
      ]
     },
     "execution_count": 13,
     "metadata": {},
     "output_type": "execute_result"
    }
   ],
   "source": [
    "show_parsed(\"3*x  + x - 1\")"
   ]
  },
  {
   "cell_type": "code",
   "execution_count": 14,
   "metadata": {},
   "outputs": [
    {
     "name": "stdout",
     "output_type": "stream",
     "text": [
      "Is Latexifiable?: True\n",
      "Latex: \\frac{1}{x}\n"
     ]
    },
    {
     "data": {
      "text/latex": [
       "$\\frac{1}{x}$"
      ],
      "text/plain": [
       "<IPython.core.display.Latex object>"
      ]
     },
     "execution_count": 14,
     "metadata": {},
     "output_type": "execute_result"
    }
   ],
   "source": [
    "show_parsed(\"1/x\")"
   ]
  },
  {
   "cell_type": "code",
   "execution_count": 15,
   "metadata": {},
   "outputs": [
    {
     "name": "stdout",
     "output_type": "stream",
     "text": [
      "Is Latexifiable?: True\n",
      "Latex: \\frac{{ x } ^ { 2 }}{{ { { x } ^ { 2 } } + { x } } - { 1 }}\n"
     ]
    },
    {
     "data": {
      "text/latex": [
       "$\\frac{{ x } ^ { 2 }}{{ { { x } ^ { 2 } } + { x } } - { 1 }}$"
      ],
      "text/plain": [
       "<IPython.core.display.Latex object>"
      ]
     },
     "execution_count": 15,
     "metadata": {},
     "output_type": "execute_result"
    }
   ],
   "source": [
    "show_parsed(\"x**2 / (x**2 + x - 1)\")"
   ]
  },
  {
   "cell_type": "code",
   "execution_count": 16,
   "metadata": {},
   "outputs": [
    {
     "name": "stdout",
     "output_type": "stream",
     "text": [
      "Is Latexifiable?: True\n",
      "Latex: { x } = { 1 }\n"
     ]
    },
    {
     "data": {
      "text/latex": [
       "${ x } = { 1 }$"
      ],
      "text/plain": [
       "<IPython.core.display.Latex object>"
      ]
     },
     "execution_count": 16,
     "metadata": {},
     "output_type": "execute_result"
    }
   ],
   "source": [
    "show_parsed(\"x == 1\")"
   ]
  },
  {
   "cell_type": "code",
   "execution_count": 17,
   "metadata": {},
   "outputs": [
    {
     "name": "stdout",
     "output_type": "stream",
     "text": [
      "Is Latexifiable?: True\n",
      "Latex: { { x } + { 2 } } < { 3 }\n"
     ]
    },
    {
     "data": {
      "text/latex": [
       "${ { x } + { 2 } } < { 3 }$"
      ],
      "text/plain": [
       "<IPython.core.display.Latex object>"
      ]
     },
     "execution_count": 17,
     "metadata": {},
     "output_type": "execute_result"
    }
   ],
   "source": [
    "show_parsed(\"x + 2 < 3\")"
   ]
  },
  {
   "cell_type": "code",
   "execution_count": 18,
   "metadata": {},
   "outputs": [
    {
     "name": "stdout",
     "output_type": "stream",
     "text": [
      "Is Latexifiable?: True\n",
      "Latex: { { x } + { 2 } } \\geq { 3 }\n"
     ]
    },
    {
     "data": {
      "text/latex": [
       "${ { x } + { 2 } } \\geq { 3 }$"
      ],
      "text/plain": [
       "<IPython.core.display.Latex object>"
      ]
     },
     "execution_count": 18,
     "metadata": {},
     "output_type": "execute_result"
    }
   ],
   "source": [
    "show_parsed(\"x + 2 >= 3\")"
   ]
  },
  {
   "cell_type": "code",
   "execution_count": 19,
   "metadata": {},
   "outputs": [
    {
     "name": "stdout",
     "output_type": "stream",
     "text": [
      "Is Latexifiable?: False\n",
      "Latex:  \\sum { x } \n"
     ]
    },
    {
     "data": {
      "text/latex": [
       "$ \\sum { x } $"
      ],
      "text/plain": [
       "<IPython.core.display.Latex object>"
      ]
     },
     "execution_count": 19,
     "metadata": {},
     "output_type": "execute_result"
    }
   ],
   "source": [
    "show_parsed(\"sum(x)\")"
   ]
  },
  {
   "cell_type": "code",
   "execution_count": 20,
   "metadata": {},
   "outputs": [
    {
     "name": "stdout",
     "output_type": "stream",
     "text": [
      "Is Latexifiable?: False\n",
      "Latex:  \\sum { { 3 } \\cdot { x } } \n"
     ]
    },
    {
     "data": {
      "text/latex": [
       "$ \\sum { { 3 } \\cdot { x } } $"
      ],
      "text/plain": [
       "<IPython.core.display.Latex object>"
      ]
     },
     "execution_count": 20,
     "metadata": {},
     "output_type": "execute_result"
    }
   ],
   "source": [
    "show_parsed(\"sum(3*x)\")"
   ]
  },
  {
   "cell_type": "code",
   "execution_count": null,
   "metadata": {},
   "outputs": [],
   "source": []
  },
  {
   "cell_type": "markdown",
   "metadata": {},
   "source": [
    "# Scratch work"
   ]
  },
  {
   "cell_type": "markdown",
   "metadata": {},
   "source": [
    "A library called `showast` can be install to draw the AST of any Python expression. "
   ]
  },
  {
   "cell_type": "code",
   "execution_count": 21,
   "metadata": {},
   "outputs": [
    {
     "data": {
      "image/svg+xml": [
       "<svg height=\"476pt\" viewBox=\"0.00 0.00 508.00 476.00\" width=\"508pt\" xmlns=\"http://www.w3.org/2000/svg\" xmlns:xlink=\"http://www.w3.org/1999/xlink\">\n",
       "<g class=\"graph\" id=\"graph0\" transform=\"scale(1 1) rotate(0) translate(4 472)\">\n",
       "<title>%3</title>\n",
       "<polygon fill=\"white\" points=\"-4,4 -4,-472 504,-472 504,4 -4,4\" stroke=\"none\"/>\n",
       "<!-- 0 -->\n",
       "<g class=\"node\" id=\"node1\"><title>0</title>\n",
       "<text fill=\"#004080\" font-family=\"Courier,monospace\" font-size=\"14.00\" font-weight=\"bold\" text-anchor=\"start\" x=\"245\" y=\"-447.3\">Expr</text>\n",
       "</g>\n",
       "<!-- 1 -->\n",
       "<g class=\"node\" id=\"node2\"><title>1</title>\n",
       "<text fill=\"#004080\" font-family=\"Courier,monospace\" font-size=\"14.00\" font-weight=\"bold\" text-anchor=\"start\" x=\"241\" y=\"-375.3\">BinOp</text>\n",
       "</g>\n",
       "<!-- 0&#45;&#45;1 -->\n",
       "<g class=\"edge\" id=\"edge1\"><title>0--1</title>\n",
       "<path d=\"M262,-431.697C262,-420.846 262,-406.917 262,-396.104\" fill=\"none\" stroke=\"black\"/>\n",
       "</g>\n",
       "<!-- 2 -->\n",
       "<g class=\"node\" id=\"node3\"><title>2</title>\n",
       "<text fill=\"#004080\" font-family=\"Courier,monospace\" font-size=\"14.00\" font-weight=\"bold\" text-anchor=\"start\" x=\"132\" y=\"-303.3\">BinOp</text>\n",
       "</g>\n",
       "<!-- 1&#45;&#45;2 -->\n",
       "<g class=\"edge\" id=\"edge2\"><title>1--2</title>\n",
       "<path d=\"M262,-359C262,-359 214.497,-336.338 182.21,-320.935\" fill=\"none\" stroke=\"black\"/>\n",
       "</g>\n",
       "<!-- 9 -->\n",
       "<g class=\"node\" id=\"node10\"><title>9</title>\n",
       "<text fill=\"#008040\" font-family=\"Courier,monospace\" font-size=\"14.00\" text-anchor=\"middle\" x=\"262\" y=\"-302.3\">Div</text>\n",
       "</g>\n",
       "<!-- 1&#45;&#45;9 -->\n",
       "<g class=\"edge\" id=\"edge9\"><title>1--9</title>\n",
       "<path d=\"M262,-359C262,-359 262,-339.192 262,-324.027\" fill=\"none\" stroke=\"black\"/>\n",
       "</g>\n",
       "<!-- 10 -->\n",
       "<g class=\"node\" id=\"node11\"><title>10</title>\n",
       "<text fill=\"#004080\" font-family=\"Courier,monospace\" font-size=\"14.00\" font-weight=\"bold\" text-anchor=\"start\" x=\"343\" y=\"-303.3\">BinOp</text>\n",
       "</g>\n",
       "<!-- 1&#45;&#45;10 -->\n",
       "<g class=\"edge\" id=\"edge10\"><title>1--10</title>\n",
       "<path d=\"M262,-359C262,-359 304.63,-337.267 334.771,-321.901\" fill=\"none\" stroke=\"black\"/>\n",
       "</g>\n",
       "<!-- 3 -->\n",
       "<g class=\"node\" id=\"node4\"><title>3</title>\n",
       "<text fill=\"#004080\" font-family=\"Courier,monospace\" font-size=\"14.00\" font-weight=\"bold\" text-anchor=\"start\" x=\"28\" y=\"-231.3\">Name</text>\n",
       "</g>\n",
       "<!-- 2&#45;&#45;3 -->\n",
       "<g class=\"edge\" id=\"edge3\"><title>2--3</title>\n",
       "<path d=\"M147,-287C147,-287 102.284,-264.204 72.0663,-248.799\" fill=\"none\" stroke=\"black\"/>\n",
       "</g>\n",
       "<!-- 6 -->\n",
       "<g class=\"node\" id=\"node7\"><title>6</title>\n",
       "<text fill=\"#008040\" font-family=\"Courier,monospace\" font-size=\"14.00\" text-anchor=\"middle\" x=\"117\" y=\"-230.3\">Pow</text>\n",
       "</g>\n",
       "<!-- 2&#45;&#45;6 -->\n",
       "<g class=\"edge\" id=\"edge6\"><title>2--6</title>\n",
       "<path d=\"M147,-287C147,-287 135.572,-267.192 126.823,-252.027\" fill=\"none\" stroke=\"black\"/>\n",
       "</g>\n",
       "<!-- 7 -->\n",
       "<g class=\"node\" id=\"node8\"><title>7</title>\n",
       "<text fill=\"#004080\" font-family=\"Courier,monospace\" font-size=\"14.00\" font-weight=\"bold\" text-anchor=\"start\" x=\"176.5\" y=\"-231.3\">Num</text>\n",
       "</g>\n",
       "<!-- 2&#45;&#45;7 -->\n",
       "<g class=\"edge\" id=\"edge7\"><title>2--7</title>\n",
       "<path d=\"M147,-287C147,-287 162.999,-267.192 175.248,-252.027\" fill=\"none\" stroke=\"black\"/>\n",
       "</g>\n",
       "<!-- 4 -->\n",
       "<g class=\"node\" id=\"node5\"><title>4</title>\n",
       "<text fill=\"#008040\" font-family=\"Courier,monospace\" font-size=\"14.00\" text-anchor=\"middle\" x=\"27\" y=\"-158.3\">&quot;x&quot;</text>\n",
       "</g>\n",
       "<!-- 3&#45;&#45;4 -->\n",
       "<g class=\"edge\" id=\"edge4\"><title>3--4</title>\n",
       "<path d=\"M49,-215C49,-215 40.6198,-195.192 34.2036,-180.027\" fill=\"none\" stroke=\"black\"/>\n",
       "</g>\n",
       "<!-- 5 -->\n",
       "<g class=\"node\" id=\"node6\"><title>5</title>\n",
       "<text fill=\"#008040\" font-family=\"Courier,monospace\" font-size=\"14.00\" text-anchor=\"middle\" x=\"99\" y=\"-158.3\">Load</text>\n",
       "</g>\n",
       "<!-- 3&#45;&#45;5 -->\n",
       "<g class=\"edge\" id=\"edge5\"><title>3--5</title>\n",
       "<path d=\"M49,-215C49,-215 68.046,-195.192 82.6281,-180.027\" fill=\"none\" stroke=\"black\"/>\n",
       "</g>\n",
       "<!-- 8 -->\n",
       "<g class=\"node\" id=\"node9\"><title>8</title>\n",
       "<text fill=\"#008040\" font-family=\"Courier,monospace\" font-size=\"14.00\" text-anchor=\"middle\" x=\"180\" y=\"-158.3\">2</text>\n",
       "</g>\n",
       "<!-- 7&#45;&#45;8 -->\n",
       "<g class=\"edge\" id=\"edge8\"><title>7--8</title>\n",
       "<path d=\"M186.775,-215.697C185.38,-204.846 183.589,-190.917 182.199,-180.104\" fill=\"none\" stroke=\"black\"/>\n",
       "</g>\n",
       "<!-- 11 -->\n",
       "<g class=\"node\" id=\"node12\"><title>11</title>\n",
       "<text fill=\"#004080\" font-family=\"Courier,monospace\" font-size=\"14.00\" font-weight=\"bold\" text-anchor=\"start\" x=\"306\" y=\"-231.3\">BinOp</text>\n",
       "</g>\n",
       "<!-- 10&#45;&#45;11 -->\n",
       "<g class=\"edge\" id=\"edge11\"><title>10--11</title>\n",
       "<path d=\"M370,-287C370,-287 353.62,-267.192 341.08,-252.027\" fill=\"none\" stroke=\"black\"/>\n",
       "</g>\n",
       "<!-- 23 -->\n",
       "<g class=\"node\" id=\"node24\"><title>23</title>\n",
       "<text fill=\"#008040\" font-family=\"Courier,monospace\" font-size=\"14.00\" text-anchor=\"middle\" x=\"401\" y=\"-230.3\">Sub</text>\n",
       "</g>\n",
       "<!-- 10&#45;&#45;23 -->\n",
       "<g class=\"edge\" id=\"edge23\"><title>10--23</title>\n",
       "<path d=\"M370,-287C370,-287 381.809,-267.192 390.849,-252.027\" fill=\"none\" stroke=\"black\"/>\n",
       "</g>\n",
       "<!-- 24 -->\n",
       "<g class=\"node\" id=\"node25\"><title>24</title>\n",
       "<text fill=\"#004080\" font-family=\"Courier,monospace\" font-size=\"14.00\" font-weight=\"bold\" text-anchor=\"start\" x=\"460.5\" y=\"-231.3\">Num</text>\n",
       "</g>\n",
       "<!-- 10&#45;&#45;24 -->\n",
       "<g class=\"edge\" id=\"edge24\"><title>10--24</title>\n",
       "<path d=\"M370,-287C370,-287 415.421,-264.069 445.938,-248.662\" fill=\"none\" stroke=\"black\"/>\n",
       "</g>\n",
       "<!-- 12 -->\n",
       "<g class=\"node\" id=\"node13\"><title>12</title>\n",
       "<text fill=\"#004080\" font-family=\"Courier,monospace\" font-size=\"14.00\" font-weight=\"bold\" text-anchor=\"start\" x=\"233\" y=\"-159.3\">BinOp</text>\n",
       "</g>\n",
       "<!-- 11&#45;&#45;12 -->\n",
       "<g class=\"edge\" id=\"edge12\"><title>11--12</title>\n",
       "<path d=\"M327,-215C327,-215 299.193,-195.192 277.903,-180.027\" fill=\"none\" stroke=\"black\"/>\n",
       "</g>\n",
       "<!-- 19 -->\n",
       "<g class=\"node\" id=\"node20\"><title>19</title>\n",
       "<text fill=\"#008040\" font-family=\"Courier,monospace\" font-size=\"14.00\" text-anchor=\"middle\" x=\"328\" y=\"-158.3\">Add</text>\n",
       "</g>\n",
       "<!-- 11&#45;&#45;19 -->\n",
       "<g class=\"edge\" id=\"edge19\"><title>11--19</title>\n",
       "<path d=\"M327,-215C327,-215 327.381,-195.192 327.673,-180.027\" fill=\"none\" stroke=\"black\"/>\n",
       "</g>\n",
       "<!-- 20 -->\n",
       "<g class=\"node\" id=\"node21\"><title>20</title>\n",
       "<text fill=\"#004080\" font-family=\"Courier,monospace\" font-size=\"14.00\" font-weight=\"bold\" text-anchor=\"start\" x=\"383\" y=\"-159.3\">Name</text>\n",
       "</g>\n",
       "<!-- 11&#45;&#45;20 -->\n",
       "<g class=\"edge\" id=\"edge20\"><title>11--20</title>\n",
       "<path d=\"M327,-215C327,-215 354.807,-195.192 376.097,-180.027\" fill=\"none\" stroke=\"black\"/>\n",
       "</g>\n",
       "<!-- 13 -->\n",
       "<g class=\"node\" id=\"node14\"><title>13</title>\n",
       "<text fill=\"#004080\" font-family=\"Courier,monospace\" font-size=\"14.00\" font-weight=\"bold\" text-anchor=\"start\" x=\"165\" y=\"-87.3\">Name</text>\n",
       "</g>\n",
       "<!-- 12&#45;&#45;13 -->\n",
       "<g class=\"edge\" id=\"edge13\"><title>12--13</title>\n",
       "<path d=\"M254,-143C254,-143 226.574,-123.192 205.575,-108.027\" fill=\"none\" stroke=\"black\"/>\n",
       "</g>\n",
       "<!-- 16 -->\n",
       "<g class=\"node\" id=\"node17\"><title>16</title>\n",
       "<text fill=\"#008040\" font-family=\"Courier,monospace\" font-size=\"14.00\" text-anchor=\"middle\" x=\"254\" y=\"-86.3\">Pow</text>\n",
       "</g>\n",
       "<!-- 12&#45;&#45;16 -->\n",
       "<g class=\"edge\" id=\"edge16\"><title>12--16</title>\n",
       "<path d=\"M254,-143C254,-143 254,-123.192 254,-108.027\" fill=\"none\" stroke=\"black\"/>\n",
       "</g>\n",
       "<!-- 17 -->\n",
       "<g class=\"node\" id=\"node18\"><title>17</title>\n",
       "<text fill=\"#004080\" font-family=\"Courier,monospace\" font-size=\"14.00\" font-weight=\"bold\" text-anchor=\"start\" x=\"313.5\" y=\"-87.3\">Num</text>\n",
       "</g>\n",
       "<!-- 12&#45;&#45;17 -->\n",
       "<g class=\"edge\" id=\"edge17\"><title>12--17</title>\n",
       "<path d=\"M254,-143C254,-143 281.426,-123.192 302.425,-108.027\" fill=\"none\" stroke=\"black\"/>\n",
       "</g>\n",
       "<!-- 14 -->\n",
       "<g class=\"node\" id=\"node15\"><title>14</title>\n",
       "<text fill=\"#008040\" font-family=\"Courier,monospace\" font-size=\"14.00\" text-anchor=\"middle\" x=\"146\" y=\"-14.3\">&quot;x&quot;</text>\n",
       "</g>\n",
       "<!-- 13&#45;&#45;14 -->\n",
       "<g class=\"edge\" id=\"edge14\"><title>13--14</title>\n",
       "<path d=\"M182,-71C182,-71 168.287,-51.1921 157.788,-36.0267\" fill=\"none\" stroke=\"black\"/>\n",
       "</g>\n",
       "<!-- 15 -->\n",
       "<g class=\"node\" id=\"node16\"><title>15</title>\n",
       "<text fill=\"#008040\" font-family=\"Courier,monospace\" font-size=\"14.00\" text-anchor=\"middle\" x=\"218\" y=\"-14.3\">Load</text>\n",
       "</g>\n",
       "<!-- 13&#45;&#45;15 -->\n",
       "<g class=\"edge\" id=\"edge15\"><title>13--15</title>\n",
       "<path d=\"M182,-71C182,-71 195.713,-51.1921 206.212,-36.0267\" fill=\"none\" stroke=\"black\"/>\n",
       "</g>\n",
       "<!-- 18 -->\n",
       "<g class=\"node\" id=\"node19\"><title>18</title>\n",
       "<text fill=\"#008040\" font-family=\"Courier,monospace\" font-size=\"14.00\" text-anchor=\"middle\" x=\"326\" y=\"-14.3\">2</text>\n",
       "</g>\n",
       "<!-- 17&#45;&#45;18 -->\n",
       "<g class=\"edge\" id=\"edge18\"><title>17--18</title>\n",
       "<path d=\"M326,-71.6966C326,-60.8463 326,-46.9167 326,-36.1043\" fill=\"none\" stroke=\"black\"/>\n",
       "</g>\n",
       "<!-- 21 -->\n",
       "<g class=\"node\" id=\"node22\"><title>21</title>\n",
       "<text fill=\"#008040\" font-family=\"Courier,monospace\" font-size=\"14.00\" text-anchor=\"middle\" x=\"399\" y=\"-86.3\">&quot;x&quot;</text>\n",
       "</g>\n",
       "<!-- 20&#45;&#45;21 -->\n",
       "<g class=\"edge\" id=\"edge21\"><title>20--21</title>\n",
       "<path d=\"M407,-143C407,-143 403.953,-123.192 401.619,-108.027\" fill=\"none\" stroke=\"black\"/>\n",
       "</g>\n",
       "<!-- 22 -->\n",
       "<g class=\"node\" id=\"node23\"><title>22</title>\n",
       "<text fill=\"#008040\" font-family=\"Courier,monospace\" font-size=\"14.00\" text-anchor=\"middle\" x=\"471\" y=\"-86.3\">Load</text>\n",
       "</g>\n",
       "<!-- 20&#45;&#45;22 -->\n",
       "<g class=\"edge\" id=\"edge22\"><title>20--22</title>\n",
       "<path d=\"M407,-143C407,-143 431.379,-123.192 450.044,-108.027\" fill=\"none\" stroke=\"black\"/>\n",
       "</g>\n",
       "<!-- 25 -->\n",
       "<g class=\"node\" id=\"node26\"><title>25</title>\n",
       "<text fill=\"#008040\" font-family=\"Courier,monospace\" font-size=\"14.00\" text-anchor=\"middle\" x=\"473\" y=\"-158.3\">1</text>\n",
       "</g>\n",
       "<!-- 24&#45;&#45;25 -->\n",
       "<g class=\"edge\" id=\"edge25\"><title>24--25</title>\n",
       "<path d=\"M473,-215.697C473,-204.846 473,-190.917 473,-180.104\" fill=\"none\" stroke=\"black\"/>\n",
       "</g>\n",
       "</g>\n",
       "</svg>"
      ],
      "text/plain": [
       "<IPython.core.display.SVG object>"
      ]
     },
     "metadata": {},
     "output_type": "display_data"
    }
   ],
   "source": [
    "%%showast\n",
    "\n",
    "x**2 / (x**2 + x - 1)"
   ]
  },
  {
   "cell_type": "code",
   "execution_count": 23,
   "metadata": {},
   "outputs": [
    {
     "data": {
      "text/plain": [
       "\"Module(body=[Expr(value=Call(func=Name(id='sum', ctx=Load()), args=[GeneratorExp(elt=BinOp(left=Name(id='x', ctx=Load()), op=Pow(), right=Num(n=2)), generators=[comprehension(target=Name(id='x', ctx=Store()), iter=Name(id='y', ctx=Load()), ifs=[], is_async=0)])], keywords=[]))])\""
      ]
     },
     "execution_count": 23,
     "metadata": {},
     "output_type": "execute_result"
    }
   ],
   "source": [
    "ast.dump(ast.parse(\"sum(x**2 for x in y)\"))"
   ]
  },
  {
   "cell_type": "code",
   "execution_count": 24,
   "metadata": {},
   "outputs": [
    {
     "data": {
      "text/plain": [
       "\"Module(body=[Expr(value=BinOp(left=BinOp(left=Name(id='x', ctx=Load()), op=Pow(), right=Num(n=2)), op=Div(), right=BinOp(left=BinOp(left=BinOp(left=Name(id='x', ctx=Load()), op=Pow(), right=Num(n=2)), op=Add(), right=Name(id='x', ctx=Load())), op=Sub(), right=Num(n=1))))])\""
      ]
     },
     "execution_count": 24,
     "metadata": {},
     "output_type": "execute_result"
    }
   ],
   "source": [
    "ast.dump(ast.parse(\"x**2 / (x**2 + x - 1)\"))"
   ]
  },
  {
   "cell_type": "code",
   "execution_count": 25,
   "metadata": {},
   "outputs": [
    {
     "data": {
      "text/plain": [
       "\"Module(body=[Expr(value=Compare(left=Name(id='x', ctx=Load()), ops=[Eq()], comparators=[Num(n=1)]))])\""
      ]
     },
     "execution_count": 25,
     "metadata": {},
     "output_type": "execute_result"
    }
   ],
   "source": [
    "ast.dump(ast.parse(\"x==1\"))"
   ]
  },
  {
   "cell_type": "code",
   "execution_count": 26,
   "metadata": {},
   "outputs": [
    {
     "data": {
      "text/plain": [
       "\"Module(body=[Expr(value=Call(func=Name(id='sum', ctx=Load()), args=[Name(id='x', ctx=Load())], keywords=[]))])\""
      ]
     },
     "execution_count": 26,
     "metadata": {},
     "output_type": "execute_result"
    }
   ],
   "source": [
    "ast.dump(ast.parse(\"sum(x)\"))"
   ]
  }
 ],
 "metadata": {
  "kernelspec": {
   "display_name": "Python 3",
   "language": "python",
   "name": "python3"
  },
  "language_info": {
   "codemirror_mode": {
    "name": "ipython",
    "version": 3
   },
   "file_extension": ".py",
   "mimetype": "text/x-python",
   "name": "python",
   "nbconvert_exporter": "python",
   "pygments_lexer": "ipython3",
   "version": "3.7.4"
  }
 },
 "nbformat": 4,
 "nbformat_minor": 4
}
